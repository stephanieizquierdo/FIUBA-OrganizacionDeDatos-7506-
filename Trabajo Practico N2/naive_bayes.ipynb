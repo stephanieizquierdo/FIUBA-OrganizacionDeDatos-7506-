{
 "cells": [
  {
   "cell_type": "code",
   "execution_count": 2,
   "metadata": {},
   "outputs": [],
   "source": [
    "import pandas as pd\n",
    "import numpy as np\n",
    "import matplotlib.pyplot as plt\n",
    "import seaborn as sns\n",
    "import requests\n",
    "from sklearn.model_selection import train_test_split\n",
    "from sklearn.datasets import make_classification\n",
    "from sklearn import preprocessing\n",
    "from sklearn.metrics import precision_recall_curve\n",
    "from sklearn.model_selection import RandomizedSearchCV\n",
    "from sklearn.model_selection import cross_val_score,cross_validate\n",
    "from sklearn.metrics import confusion_matrix\n",
    "from sklearn.model_selection import GridSearchCV\n",
    "from sklearn.metrics import f1_score, roc_auc_score, accuracy_score, precision_score, recall_score\n",
    "from preprocessing import *\n",
    "from charts_and_write import *\n",
    "\n",
    "from sklearn.naive_bayes import GaussianNB\n"
   ]
  },
  {
   "cell_type": "markdown",
   "metadata": {},
   "source": [
    "# Naive Bayes\n",
    "\n",
    "Este es un algoritmo para clasificación basado en la probabilidad de futuros resultados. Se basa en el teorema de bayes y es bastante rápido. Se lo conoce por su efectividad en filtros de spam."
   ]
  },
  {
   "cell_type": "markdown",
   "metadata": {},
   "source": [
    "## Preprocesamiento\n",
    "\n",
    "En nuestro script preprocessing.py tenemos definidas ya funciones que nos van a servir para descargar los datos crudos y luego prepararlos para luego poder aplicarle ingeniería de features. La función prepararDatosExistentes "
   ]
  },
  {
   "cell_type": "code",
   "execution_count": 3,
   "metadata": {},
   "outputs": [],
   "source": [
    "download_raw_data()"
   ]
  },
  {
   "cell_type": "code",
   "execution_count": 4,
   "metadata": {},
   "outputs": [],
   "source": [
    "#datasets train-test y holdout \n",
    "data_train = pd.read_csv(\"impuestos_train.cvs\")\n",
    "data_holdout = pd.read_csv(\"impuestos_holdout.cvs\")\n",
    "#llenamos los nulls y borramos columnas que no se usan\n",
    "data_train, data_holdout = prepare_existing_data(data_train, data_holdout)\n"
   ]
  },
  {
   "cell_type": "markdown",
   "metadata": {},
   "source": [
    "## Selección de features 1\n",
    "\n",
    "\n",
    "Podemos usar los features que ya vienen en el dataset y ademas generar nuevos a partir de ellos. Para empezar de entrada vamos a descartar algunos que ya en el TP1 vimos que no aportaban como son barrio y educacion alcanzada. \n",
    "Luego, de los features ya existentes va a haber un grupo, los categoricos, que al no ser numericos vamos a tener que utilizar un encodeo para poder entrenar el modelo. La mayoria de ellos no tienen un orden entonces vamos a usar nuestra función de one hot encoding, que genera una columna nueva por cada valor posible. Para el caso de los que sí tienen orden vamos a utilizar un encodeo propio con la funcion \"encoding_sorted\". Ambas funciones estan en el script de preprocessing.py.\n"
   ]
  },
  {
   "cell_type": "code",
   "execution_count": 5,
   "metadata": {},
   "outputs": [],
   "source": [
    "columns_one_hot = [\"estado_marital\", \"categoria_de_trabajo\", \"rol_familiar_registrado\", \"religion\", \"trabajo\", \"genero\"]\n",
    "data_train_v1 = encode_one_hot(data_train, columns_one_hot)\n",
    "columns_sorted_numeric = [\"educacion\"]\n",
    "data_train_v1 = encoding_sorted(data_train_v1, columns_sorted_numeric)"
   ]
  },
  {
   "cell_type": "code",
   "execution_count": 6,
   "metadata": {},
   "outputs": [],
   "source": [
    "X_train_v1, X_test_v1, y_train_v1, y_test_v1 = train_test_split(data_train_v1.drop(columns={\"tiene_alto_valor_adquisitivo\"}), data_train_v1[\"tiene_alto_valor_adquisitivo\"], random_state=42)"
   ]
  },
  {
   "cell_type": "markdown",
   "metadata": {},
   "source": [
    "## Selección de features 2\n",
    "\n",
    "Para la segunda selección vamos a agregar features obtenidos a partir del analisis del TP1, que son la transformación de edad a decil y de gancnaias en bolsa a cuartil.\n",
    "El feature edad lo vamos a reemplazar por el decil al que pertenece en el dataset de entrenamiento, y vamos a reemplazar el feature de ganancias y perdidas en la bolsa por uno \"bolsa\" que representará el cuartil al que pertenece, en caso de ganancia, 0 en caso de no tener actividad, y un valor negativo correspondiente al cuartil en el caso de perdidas. Así, los casos que mas perdida tienen van a tener el valor -4, y los que mas ganancia tienen van a tener el valor 4.\n"
   ]
  },
  {
   "cell_type": "code",
   "execution_count": 7,
   "metadata": {},
   "outputs": [],
   "source": [
    "columns_one_hot = [\"estado_marital\", \"categoria_de_trabajo\", \"rol_familiar_registrado\", \"religion\", \"trabajo\", \"genero\"]\n",
    "data_train_v2 = encode_one_hot(data_train,columns_one_hot)\n",
    "columns_sorted_numeric = [\"educacion\", \"edad\", \"bolsa\"]\n",
    "data_train_v2 = encoding_sorted(data_train_v2, columns_sorted_numeric)"
   ]
  },
  {
   "cell_type": "code",
   "execution_count": 8,
   "metadata": {},
   "outputs": [],
   "source": [
    "X_train_v2, X_test_v2, y_train_v2, y_test_v2 = train_test_split(data_train_v2.drop(columns={\"tiene_alto_valor_adquisitivo\"}), data_train_v2[\"tiene_alto_valor_adquisitivo\"], random_state=42)"
   ]
  },
  {
   "cell_type": "code",
   "execution_count": null,
   "metadata": {},
   "outputs": [],
   "source": []
  },
  {
   "cell_type": "markdown",
   "metadata": {},
   "source": [
    "## Prueba Gaussian Naive Bayes por defecto\n",
    "\n",
    "### Seleccion 1"
   ]
  },
  {
   "cell_type": "code",
   "execution_count": 9,
   "metadata": {},
   "outputs": [
    {
     "name": "stdout",
     "output_type": "stream",
     "text": [
      "Accuracy: 0.7917946198255743\n",
      "----------------------------------------------\n",
      "Precision: 0.825116761805916\n",
      "----------------------------------------------\n",
      "Recall: 0.5393487109905021\n",
      "----------------------------------------------\n",
      "F1_score: 0.6523076923076924\n",
      "----------------------------------------------\n",
      "AUC-ROC score para naive bayes: 0.896\n"
     ]
    }
   ],
   "source": [
    "gnb = GaussianNB()\n",
    "gnb.fit(X_train_v1, y_train_v1)\n",
    "y_pred = gnb.predict(X_test_v1)\n",
    "show_metrics(gnb, y_pred, y_test_v1, X_test_v1, \"naive bayes\")"
   ]
  },
  {
   "cell_type": "code",
   "execution_count": 10,
   "metadata": {},
   "outputs": [
    {
     "data": {
      "image/png": "[encoded data removed]",
      "text/plain": [
       "<Figure size 720x480 with 2 Axes>"
      ]
     },
     "metadata": {
      "needs_background": "light"
     },
     "output_type": "display_data"
    }
   ],
   "source": [
    "show_confusion_matrix(y_pred,y_test_v1)"
   ]
  },
  {
   "cell_type": "markdown",
   "metadata": {},
   "source": [
    "### Seleccion 2"
   ]
  },
  {
   "cell_type": "code",
   "execution_count": 11,
   "metadata": {},
   "outputs": [
    {
     "name": "stdout",
     "output_type": "stream",
     "text": [
      "Accuracy: 0.8077631740572411\n",
      "----------------------------------------------\n",
      "Precision: 0.8053969901401141\n",
      "----------------------------------------------\n",
      "Recall: 0.5660102115244348\n",
      "----------------------------------------------\n",
      "F1_score: 0.6648104519168987\n",
      "----------------------------------------------\n",
      "AUC-ROC score para naive_bayes: 0.895\n"
     ]
    }
   ],
   "source": [
    "gnb = GaussianNB()\n",
    "gnb.fit(X_train_v2, y_train_v2)\n",
    "y_pred = gnb.predict(X_test_v2)\n",
    "show_metrics(gnb, y_pred, y_test_v2, X_test_v2, \"naive_bayes\")"
   ]
  },
  {
   "cell_type": "code",
   "execution_count": 12,
   "metadata": {},
   "outputs": [
    {
     "data": {
      "image/png": "[encoded data removed]",
      "text/plain": [
       "<Figure size 720x480 with 2 Axes>"
      ]
     },
     "metadata": {
      "needs_background": "light"
     },
     "output_type": "display_data"
    }
   ],
   "source": [
    "show_confusion_matrix(y_pred,y_test_v2)"
   ]
  },
  {
   "cell_type": "code",
   "execution_count": null,
   "metadata": {},
   "outputs": [],
   "source": []
  },
  {
   "cell_type": "markdown",
   "metadata": {},
   "source": [
    "### Buscamos ajustar hiperparametros con Grid Search Cross Validation\n",
    "\n",
    "Para el cross validation vamos a usar 5 folds. \n",
    "En el param grid usamos valores de hiperparametros cercanos a los obtenidos como best params en random search.\n",
    "Para que el grid search decida cual es la mejor combinacion vamos a utilizar roc auc como metrica.\n",
    "\n",
    "Primero en seleccion 1"
   ]
  },
  {
   "cell_type": "code",
   "execution_count": 13,
   "metadata": {},
   "outputs": [
    {
     "name": "stdout",
     "output_type": "stream",
     "text": [
      "Fitting 5 folds for each of 100 candidates, totalling 500 fits\n"
     ]
    },
    {
     "name": "stderr",
     "output_type": "stream",
     "text": [
      "[Parallel(n_jobs=1)]: Using backend SequentialBackend with 1 concurrent workers.\n",
      "[Parallel(n_jobs=1)]: Done 500 out of 500 | elapsed:   22.7s finished\n"
     ]
    },
    {
     "data": {
      "text/plain": [
       "{'var_smoothing': 1e-09}"
      ]
     },
     "execution_count": 13,
     "metadata": {},
     "output_type": "execute_result"
    }
   ],
   "source": [
    "params = {'var_smoothing': np.logspace(0,-9, num=100)}\n",
    "grid = GridSearchCV(estimator=gnb, \n",
    "                 param_grid=params, \n",
    "                 verbose=1, \n",
    "                 scoring='roc_auc') \n",
    "grid.fit(X_train_v1, y_train_v1)\n",
    "\n",
    "grid.best_params_"
   ]
  },
  {
   "cell_type": "markdown",
   "metadata": {},
   "source": [
    "Ahora para la seleccion 2"
   ]
  },
  {
   "cell_type": "code",
   "execution_count": 14,
   "metadata": {},
   "outputs": [
    {
     "name": "stderr",
     "output_type": "stream",
     "text": [
      "[Parallel(n_jobs=1)]: Using backend SequentialBackend with 1 concurrent workers.\n"
     ]
    },
    {
     "name": "stdout",
     "output_type": "stream",
     "text": [
      "Fitting 5 folds for each of 100 candidates, totalling 500 fits\n"
     ]
    },
    {
     "name": "stderr",
     "output_type": "stream",
     "text": [
      "[Parallel(n_jobs=1)]: Done 500 out of 500 | elapsed:   26.2s finished\n"
     ]
    },
    {
     "data": {
      "text/plain": [
       "{'var_smoothing': 1e-09}"
      ]
     },
     "execution_count": 14,
     "metadata": {},
     "output_type": "execute_result"
    }
   ],
   "source": [
    "grid.fit(X_train_v2, y_train_v2)\n",
    "\n",
    "grid.best_params_"
   ]
  },
  {
   "cell_type": "code",
   "execution_count": 15,
   "metadata": {},
   "outputs": [],
   "source": [
    "var_smoothing = grid.best_params_[\"var_smoothing\"]"
   ]
  },
  {
   "cell_type": "markdown",
   "metadata": {},
   "source": [
    "## Rsultados de grid search en nuestros datasets\n",
    "\n",
    "El resultado dio el hiperparametro var_smoothing identico al que viene por defecto por lo cual vamos a quedarnos con ese"
   ]
  },
  {
   "cell_type": "markdown",
   "metadata": {},
   "source": [
    "# Resultado \n",
    "\n",
    "El modelo que mejor performó fue el que usaba la selección 1"
   ]
  },
  {
   "cell_type": "code",
   "execution_count": 16,
   "metadata": {},
   "outputs": [],
   "source": [
    "columns_one_hot = [\"estado_marital\", \"categoria_de_trabajo\", \"rol_familiar_registrado\", \"religion\", \"trabajo\", \"genero\"]\n",
    "data_holdout = encode_one_hot(data_holdout, columns_one_hot)\n",
    "columns_sorted_numeric = [\"educacion\"]\n",
    "data_holdout = encoding_sorted(data_holdout, columns_sorted_numeric)"
   ]
  },
  {
   "cell_type": "code",
   "execution_count": 17,
   "metadata": {},
   "outputs": [],
   "source": [
    "best_clf = GaussianNB()\n",
    "best_clf.fit(X_train_v1, y_train_v1)\n",
    "predictions_holdout = best_clf.predict(data_holdout.drop(columns='id'))"
   ]
  },
  {
   "cell_type": "code",
   "execution_count": 18,
   "metadata": {},
   "outputs": [],
   "source": [
    "write_predictions(predictions_holdout,\"naive_bayes\",data_holdout[\"id\"])\n"
   ]
  },
  {
   "cell_type": "code",
   "execution_count": null,
   "metadata": {},
   "outputs": [],
   "source": []
  },
  {
   "cell_type": "code",
   "execution_count": null,
   "metadata": {},
   "outputs": [],
   "source": []
  }
 ],
 "metadata": {
  "kernelspec": {
   "display_name": "Python 3",
   "language": "python",
   "name": "python3"
  },
  "language_info": {
   "codemirror_mode": {
    "name": "ipython",
    "version": 3
   },
   "file_extension": ".py",
   "mimetype": "text/x-python",
   "name": "python",
   "nbconvert_exporter": "python",
   "pygments_lexer": "ipython3",
   "version": "3.8.10"
  }
 },
 "nbformat": 4,
 "nbformat_minor": 4
}
